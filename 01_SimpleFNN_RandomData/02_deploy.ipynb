{
 "cells": [
  {
   "cell_type": "code",
   "execution_count": null,
   "id": "77e252e4",
   "metadata": {},
   "outputs": [],
   "source": [
    "# !pip install pynq"
   ]
  },
  {
   "cell_type": "code",
   "execution_count": null,
   "id": "6ef90311",
   "metadata": {},
   "outputs": [
    {
     "data": {
      "text/plain": [
       "'axi_stream_driver.py'"
      ]
     },
     "execution_count": 6,
     "metadata": {},
     "output_type": "execute_result"
    }
   ],
   "source": [
    "# Move the overlays to the working directory\n",
    "# After running the code, modify line 75 to 'self.<kernel_name>'\n",
    "# import shutil\n",
    "\n",
    "# overlay_location=\"/home/csl/anaconda3/envs/hls4ml-u55c/lib/python3.10/site-packages/hls4ml/templates/vivado_accelerator/alveo/python_drivers/axi_stream_driver.py\"\n",
    "# shutil.copyfile(overlay_location,'axi_stream_driver.py')"
   ]
  },
  {
   "cell_type": "code",
   "execution_count": 1,
   "id": "018e3402",
   "metadata": {},
   "outputs": [],
   "source": [
    "import os\n",
    "\n",
    "# Set the environment variables for XRT\n",
    "xrt_213_path = \"/home/csl/yeop/XRT/build/Debug/opt/xilinx/xrt\"\n",
    "os.environ[\"XILINX_XRT\"] = xrt_213_path\n",
    "os.environ[\"LD_LIBRARY_PATH\"] = f\"{xrt_213_path}/lib:\" + os.getenv(\"LD_LIBRARY_PATH\", \"\")\n",
    "os.environ[\"PATH\"] = f\"{xrt_213_path}/bin:\" + os.getenv(\"PATH\", \"\")"
   ]
  },
  {
   "cell_type": "code",
   "execution_count": 2,
   "id": "1d2a23da",
   "metadata": {},
   "outputs": [
    {
     "name": "stdout",
     "output_type": "stream",
     "text": [
      "Version              : 2.13.0\n",
      "Branch               : 2022.1\n",
      "Hash                 : ca4bdf101cd1d698377f5a7113d8583f709c2143\n",
      "Hash Date            : 2025-02-27 06:03:19\n",
      "XOCL                 : 2.13.466, f5505e402c2ca1ffe45eb6d3a9399b23a0dc8776\n",
      "XCLMGMT              : 2.13.466, f5505e402c2ca1ffe45eb6d3a9399b23a0dc8776\n"
     ]
    }
   ],
   "source": [
    "!xbutil --version"
   ]
  },
  {
   "cell_type": "code",
   "execution_count": null,
   "id": "9d2946fc",
   "metadata": {},
   "outputs": [],
   "source": [
    "# in terminal\n",
    "# sudo chown root:xrt /dev/xclmgmt55296\n",
    "# sudo chmod 666 /dev/xclmgmt55296\n",
    "# sudo chmod 666 /dev/dri/renderD128"
   ]
  },
  {
   "cell_type": "code",
   "execution_count": 3,
   "id": "d40681a7",
   "metadata": {},
   "outputs": [
    {
     "name": "stdout",
     "output_type": "stream",
     "text": [
      "crw-rw-rw- 1 root xrt 498, 0 Apr 18 09:04 /dev/xclmgmt55296\n",
      "crw-rw-rw-+ 1 root render 226, 128 Apr 18 09:04 /dev/dri/renderD128\n"
     ]
    }
   ],
   "source": [
    "!ls -l /dev/xclmgmt55296\n",
    "!ls -l /dev/dri/renderD128"
   ]
  },
  {
   "cell_type": "code",
   "execution_count": 4,
   "id": "21abd880",
   "metadata": {},
   "outputs": [
    {
     "name": "stdout",
     "output_type": "stream",
     "text": [
      "\n",
      "-----------------------------------------------------\n",
      "1/1 [0000:d8:00.1] : xilinx_u55c_gen3x16_xdma_base_3\n",
      "-----------------------------------------------------\n",
      "Thermals\n",
      "  Temperature            : Celcius\n",
      "  PCB Top Front          :     49 C\n",
      "  PCB Top Rear           :     51 C\n",
      "  Cage0                  :     49 C\n",
      "  FPGA                   :     61 C\n",
      "  Int Vcc                :     57 C\n",
      "  FPGA HBM               :     56 C\n",
      "\n"
     ]
    }
   ],
   "source": [
    "!xbutil examine -d 0000:d8:00.1 -r thermal"
   ]
  },
  {
   "cell_type": "code",
   "execution_count": 5,
   "id": "137fac9f",
   "metadata": {},
   "outputs": [
    {
     "name": "stderr",
     "output_type": "stream",
     "text": [
      "/home/csl/anaconda3/envs/hls4ml-u55c/lib/python3.10/site-packages/pydantic/_internal/_config.py:373: UserWarning: Valid config keys have changed in V2:\n",
      "* 'underscore_attrs_are_private' has been removed\n",
      "  warnings.warn(message, UserWarning)\n",
      "/home/csl/anaconda3/envs/hls4ml-u55c/lib/python3.10/site-packages/pydantic/_internal/_config.py:373: UserWarning: Valid config keys have changed in V2:\n",
      "* 'underscore_attrs_are_private' has been removed\n",
      "  warnings.warn(message, UserWarning)\n"
     ]
    }
   ],
   "source": [
    "import numpy as np\n",
    "\n",
    "from pynq import allocate\n",
    "from pynq import Overlay\n",
    "from pynq import Device\n",
    "\n",
    "from matplotlib import pyplot as plt\n",
    "from datetime import datetime"
   ]
  },
  {
   "cell_type": "code",
   "execution_count": 6,
   "id": "84e8d176",
   "metadata": {},
   "outputs": [],
   "source": [
    "# Load the test data (just random data for now)\n",
    "X_test = np.random.rand(1000, 10)\n",
    "y_test = np.random.randint(2, size=(1000, 1))"
   ]
  },
  {
   "cell_type": "code",
   "execution_count": 7,
   "id": "52c7bfee",
   "metadata": {},
   "outputs": [
    {
     "name": "stdout",
     "output_type": "stream",
     "text": [
      "Device found: <pynq.pl_server.xrt_device.XrtDevice object at 0x7fcf85254dc0>\n"
     ]
    }
   ],
   "source": [
    "try:\n",
    "    device = Device.active_device\n",
    "    print(f\"Device found: {device}\")\n",
    "except RuntimeError as e:\n",
    "    print(f\"Error: {e}\")"
   ]
  },
  {
   "cell_type": "code",
   "execution_count": 8,
   "id": "059e02ba",
   "metadata": {},
   "outputs": [
    {
     "data": {
      "application/javascript": "\ntry {\nrequire(['notebook/js/codecell'], function(codecell) {\n  codecell.CodeCell.options_default.highlight_modes[\n      'magic_text/x-csrc'] = {'reg':[/^%%microblaze/]};\n  Jupyter.notebook.events.one('kernel_ready.Kernel', function(){\n      Jupyter.notebook.get_cells().map(function(cell){\n          if (cell.cell_type == 'code'){ cell.auto_highlight(); } }) ;\n  });\n});\n} catch (e) {};\n"
     },
     "metadata": {},
     "output_type": "display_data"
    },
    {
     "data": {
      "application/javascript": "\ntry {\nrequire(['notebook/js/codecell'], function(codecell) {\n  codecell.CodeCell.options_default.highlight_modes[\n      'magic_text/x-csrc'] = {'reg':[/^%%pybind11/]};\n  Jupyter.notebook.events.one('kernel_ready.Kernel', function(){\n      Jupyter.notebook.get_cells().map(function(cell){\n          if (cell.cell_type == 'code'){ cell.auto_highlight(); } }) ;\n  });\n});\n} catch (e) {};\n"
     },
     "metadata": {},
     "output_type": "display_data"
    }
   ],
   "source": [
    "from axi_stream_driver import NeuralNetworkOverlay\n",
    "\n",
    "# If error -> \"source /opt/xilinx/xrt/setup.sh\" in terminal\n",
    "# Load the xclbin file to the board\n",
    "ol = NeuralNetworkOverlay(\"./hls4ml_prj_u55c_new/xclbin_files/myproject_kernel.xclbin\")"
   ]
  },
  {
   "cell_type": "code",
   "execution_count": null,
   "id": "1051d980",
   "metadata": {},
   "outputs": [],
   "source": [
    "# Check the name of the kernel\n",
    "ol?"
   ]
  },
  {
   "cell_type": "code",
   "execution_count": null,
   "id": "12ecd10b",
   "metadata": {},
   "outputs": [],
   "source": [
    "ol.myproject_1?"
   ]
  },
  {
   "cell_type": "code",
   "execution_count": 10,
   "id": "33daa8fd",
   "metadata": {},
   "outputs": [
    {
     "ename": "RuntimeError",
     "evalue": "Allocate failed: 4294967277",
     "output_type": "error",
     "traceback": [
      "\u001b[0;31m---------------------------------------------------------------------------\u001b[0m",
      "\u001b[0;31mRuntimeError\u001b[0m                              Traceback (most recent call last)",
      "Cell \u001b[0;32mIn[10], line 1\u001b[0m\n\u001b[0;32m----> 1\u001b[0m y_pred_fpga, _, rate \u001b[38;5;241m=\u001b[39m \u001b[43mol\u001b[49m\u001b[38;5;241;43m.\u001b[39;49m\u001b[43mpredict\u001b[49m\u001b[43m(\u001b[49m\u001b[43mX_test\u001b[49m\u001b[43m,\u001b[49m\u001b[43m \u001b[49m\u001b[43my_test\u001b[49m\u001b[38;5;241;43m.\u001b[39;49m\u001b[43mshape\u001b[49m\u001b[43m,\u001b[49m\u001b[43m \u001b[49m\u001b[43mnp\u001b[49m\u001b[38;5;241;43m.\u001b[39;49m\u001b[43mint16\u001b[49m\u001b[43m,\u001b[49m\u001b[43m \u001b[49m\u001b[43mprofile\u001b[49m\u001b[38;5;241;43m=\u001b[39;49m\u001b[38;5;28;43;01mTrue\u001b[39;49;00m\u001b[43m)\u001b[49m\n",
      "File \u001b[0;32m~/sky/hls4ml_practice/axi_stream_driver.py:63\u001b[0m, in \u001b[0;36mNeuralNetworkOverlay.predict\u001b[0;34m(self, X, y_shape, dtype, debug, profile, encode, decode)\u001b[0m\n\u001b[1;32m     45\u001b[0m \u001b[38;5;28;01mdef\u001b[39;00m\u001b[38;5;250m \u001b[39m\u001b[38;5;21mpredict\u001b[39m(\u001b[38;5;28mself\u001b[39m, X, y_shape, dtype\u001b[38;5;241m=\u001b[39mnp\u001b[38;5;241m.\u001b[39mfloat32, debug\u001b[38;5;241m=\u001b[39m\u001b[38;5;28;01mFalse\u001b[39;00m, profile\u001b[38;5;241m=\u001b[39m\u001b[38;5;28;01mFalse\u001b[39;00m, encode\u001b[38;5;241m=\u001b[39m\u001b[38;5;28;01mNone\u001b[39;00m, decode\u001b[38;5;241m=\u001b[39m\u001b[38;5;28;01mNone\u001b[39;00m):\n\u001b[1;32m     46\u001b[0m \u001b[38;5;250m    \u001b[39m\u001b[38;5;124;03m\"\"\"Obtain the predictions of the NN implemented in the FPGA.\u001b[39;00m\n\u001b[1;32m     47\u001b[0m \n\u001b[1;32m     48\u001b[0m \u001b[38;5;124;03m    Args:\u001b[39;00m\n\u001b[0;32m   (...)\u001b[0m\n\u001b[1;32m     61\u001b[0m \u001b[38;5;124;03m        _type_: A ``np.ndarray`` with a shape equal of ``y_shape`` and ``dtype`` data type.\u001b[39;00m\n\u001b[1;32m     62\u001b[0m \u001b[38;5;124;03m    \"\"\"\u001b[39;00m\n\u001b[0;32m---> 63\u001b[0m     \u001b[38;5;28;43mself\u001b[39;49m\u001b[38;5;241;43m.\u001b[39;49m\u001b[43mallocate_mem\u001b[49m\u001b[43m(\u001b[49m\u001b[43mX_shape\u001b[49m\u001b[38;5;241;43m=\u001b[39;49m\u001b[43mX\u001b[49m\u001b[38;5;241;43m.\u001b[39;49m\u001b[43mshape\u001b[49m\u001b[43m,\u001b[49m\u001b[43m \u001b[49m\u001b[43my_shape\u001b[49m\u001b[38;5;241;43m=\u001b[39;49m\u001b[43my_shape\u001b[49m\u001b[43m,\u001b[49m\u001b[43m \u001b[49m\u001b[43mdtype\u001b[49m\u001b[38;5;241;43m=\u001b[39;49m\u001b[43mdtype\u001b[49m\u001b[43m)\u001b[49m\n\u001b[1;32m     64\u001b[0m     \u001b[38;5;28;01mif\u001b[39;00m profile:\n\u001b[1;32m     65\u001b[0m         timea \u001b[38;5;241m=\u001b[39m datetime\u001b[38;5;241m.\u001b[39mnow()\n",
      "File \u001b[0;32m~/sky/hls4ml_practice/axi_stream_driver.py:42\u001b[0m, in \u001b[0;36mNeuralNetworkOverlay.allocate_mem\u001b[0;34m(self, X_shape, y_shape, dtype, trg_in, trg_out)\u001b[0m\n\u001b[1;32m     13\u001b[0m \u001b[38;5;28;01mdef\u001b[39;00m\u001b[38;5;250m \u001b[39m\u001b[38;5;21mallocate_mem\u001b[39m(\u001b[38;5;28mself\u001b[39m, X_shape, y_shape, dtype\u001b[38;5;241m=\u001b[39mnp\u001b[38;5;241m.\u001b[39mfloat32, trg_in\u001b[38;5;241m=\u001b[39m\u001b[38;5;28;01mNone\u001b[39;00m, trg_out\u001b[38;5;241m=\u001b[39m\u001b[38;5;28;01mNone\u001b[39;00m):\n\u001b[1;32m     14\u001b[0m \u001b[38;5;250m    \u001b[39m\u001b[38;5;124;03m\"\"\"Buffer allocation in the accelerator's memory.\u001b[39;00m\n\u001b[1;32m     15\u001b[0m \n\u001b[1;32m     16\u001b[0m \u001b[38;5;124;03m    Args:\u001b[39;00m\n\u001b[0;32m   (...)\u001b[0m\n\u001b[1;32m     40\u001b[0m \u001b[38;5;124;03m            alveo-u50. Defaults to None.\u001b[39;00m\n\u001b[1;32m     41\u001b[0m \u001b[38;5;124;03m    \"\"\"\u001b[39;00m\n\u001b[0;32m---> 42\u001b[0m     \u001b[38;5;28mself\u001b[39m\u001b[38;5;241m.\u001b[39minput_buffer \u001b[38;5;241m=\u001b[39m \u001b[43mallocate\u001b[49m\u001b[43m(\u001b[49m\u001b[43mshape\u001b[49m\u001b[38;5;241;43m=\u001b[39;49m\u001b[43mX_shape\u001b[49m\u001b[43m,\u001b[49m\u001b[43m \u001b[49m\u001b[43mdtype\u001b[49m\u001b[38;5;241;43m=\u001b[39;49m\u001b[43mdtype\u001b[49m\u001b[43m,\u001b[49m\u001b[43m \u001b[49m\u001b[43mtarget\u001b[49m\u001b[38;5;241;43m=\u001b[39;49m\u001b[43mtrg_in\u001b[49m\u001b[43m)\u001b[49m\n\u001b[1;32m     43\u001b[0m     \u001b[38;5;28mself\u001b[39m\u001b[38;5;241m.\u001b[39moutput_buffer \u001b[38;5;241m=\u001b[39m allocate(shape\u001b[38;5;241m=\u001b[39my_shape, dtype\u001b[38;5;241m=\u001b[39mdtype, target\u001b[38;5;241m=\u001b[39mtrg_out)\n",
      "File \u001b[0;32m~/anaconda3/envs/hls4ml-u55c/lib/python3.10/site-packages/pynq/buffer.py:158\u001b[0m, in \u001b[0;36mallocate\u001b[0;34m(shape, dtype, target, **kwargs)\u001b[0m\n\u001b[1;32m    156\u001b[0m \u001b[38;5;28;01mif\u001b[39;00m target \u001b[38;5;129;01mis\u001b[39;00m \u001b[38;5;28;01mNone\u001b[39;00m:\n\u001b[1;32m    157\u001b[0m     target \u001b[38;5;241m=\u001b[39m Device\u001b[38;5;241m.\u001b[39mactive_device\n\u001b[0;32m--> 158\u001b[0m \u001b[38;5;28;01mreturn\u001b[39;00m \u001b[43mtarget\u001b[49m\u001b[38;5;241;43m.\u001b[39;49m\u001b[43mallocate\u001b[49m\u001b[43m(\u001b[49m\u001b[43mshape\u001b[49m\u001b[43m,\u001b[49m\u001b[43m \u001b[49m\u001b[43mdtype\u001b[49m\u001b[43m,\u001b[49m\u001b[43m \u001b[49m\u001b[38;5;241;43m*\u001b[39;49m\u001b[38;5;241;43m*\u001b[39;49m\u001b[43mkwargs\u001b[49m\u001b[43m)\u001b[49m\n",
      "File \u001b[0;32m~/anaconda3/envs/hls4ml-u55c/lib/python3.10/site-packages/pynq/pl_server/device.py:145\u001b[0m, in \u001b[0;36mDevice.allocate\u001b[0;34m(self, shape, dtype, **kwargs)\u001b[0m\n\u001b[1;32m    127\u001b[0m \u001b[38;5;28;01mdef\u001b[39;00m\u001b[38;5;250m \u001b[39m\u001b[38;5;21mallocate\u001b[39m(\u001b[38;5;28mself\u001b[39m, shape, dtype, \u001b[38;5;241m*\u001b[39m\u001b[38;5;241m*\u001b[39mkwargs):\n\u001b[1;32m    128\u001b[0m \u001b[38;5;250m    \u001b[39m\u001b[38;5;124;03m\"\"\"Allocate an array on the device\u001b[39;00m\n\u001b[1;32m    129\u001b[0m \n\u001b[1;32m    130\u001b[0m \u001b[38;5;124;03m    Returns a buffer on memory accessible to the device\u001b[39;00m\n\u001b[0;32m   (...)\u001b[0m\n\u001b[1;32m    143\u001b[0m \n\u001b[1;32m    144\u001b[0m \u001b[38;5;124;03m    \"\"\"\u001b[39;00m\n\u001b[0;32m--> 145\u001b[0m     \u001b[38;5;28;01mreturn\u001b[39;00m \u001b[38;5;28;43mself\u001b[39;49m\u001b[38;5;241;43m.\u001b[39;49m\u001b[43mdefault_memory\u001b[49m\u001b[38;5;241;43m.\u001b[39;49m\u001b[43mallocate\u001b[49m\u001b[43m(\u001b[49m\u001b[43mshape\u001b[49m\u001b[43m,\u001b[49m\u001b[43m \u001b[49m\u001b[43mdtype\u001b[49m\u001b[43m,\u001b[49m\u001b[43m \u001b[49m\u001b[38;5;241;43m*\u001b[39;49m\u001b[38;5;241;43m*\u001b[39;49m\u001b[43mkwargs\u001b[49m\u001b[43m)\u001b[49m\n",
      "File \u001b[0;32m~/anaconda3/envs/hls4ml-u55c/lib/python3.10/site-packages/pynq/pl_server/xrt_device.py:156\u001b[0m, in \u001b[0;36mXrtMemory.allocate\u001b[0;34m(self, shape, dtype, **kwargs)\u001b[0m\n\u001b[1;32m    145\u001b[0m \u001b[38;5;28;01mdef\u001b[39;00m\u001b[38;5;250m \u001b[39m\u001b[38;5;21mallocate\u001b[39m(\u001b[38;5;28mself\u001b[39m, shape, dtype, \u001b[38;5;241m*\u001b[39m\u001b[38;5;241m*\u001b[39mkwargs):\n\u001b[1;32m    146\u001b[0m \u001b[38;5;250m    \u001b[39m\u001b[38;5;124;03m\"\"\"Create a new  buffer in the memory bank\u001b[39;00m\n\u001b[1;32m    147\u001b[0m \n\u001b[1;32m    148\u001b[0m \u001b[38;5;124;03m    Parameters\u001b[39;00m\n\u001b[0;32m   (...)\u001b[0m\n\u001b[1;32m    154\u001b[0m \n\u001b[1;32m    155\u001b[0m \u001b[38;5;124;03m    \"\"\"\u001b[39;00m\n\u001b[0;32m--> 156\u001b[0m     buf \u001b[38;5;241m=\u001b[39m \u001b[43m_xrt_allocate\u001b[49m\u001b[43m(\u001b[49m\u001b[43mshape\u001b[49m\u001b[43m,\u001b[49m\u001b[43m \u001b[49m\u001b[43mdtype\u001b[49m\u001b[43m,\u001b[49m\u001b[43m \u001b[49m\u001b[38;5;28;43mself\u001b[39;49m\u001b[38;5;241;43m.\u001b[39;49m\u001b[43mdevice\u001b[49m\u001b[43m,\u001b[49m\u001b[43m \u001b[49m\u001b[38;5;28;43mself\u001b[39;49m\u001b[38;5;241;43m.\u001b[39;49m\u001b[43midx\u001b[49m\u001b[43m,\u001b[49m\u001b[43m \u001b[49m\u001b[38;5;241;43m*\u001b[39;49m\u001b[38;5;241;43m*\u001b[39;49m\u001b[43mkwargs\u001b[49m\u001b[43m)\u001b[49m\n\u001b[1;32m    157\u001b[0m     buf\u001b[38;5;241m.\u001b[39mmemory \u001b[38;5;241m=\u001b[39m \u001b[38;5;28mself\u001b[39m\n\u001b[1;32m    158\u001b[0m     \u001b[38;5;28;01mreturn\u001b[39;00m buf\n",
      "File \u001b[0;32m~/anaconda3/envs/hls4ml-u55c/lib/python3.10/site-packages/pynq/pl_server/xrt_device.py:104\u001b[0m, in \u001b[0;36m_xrt_allocate\u001b[0;34m(shape, dtype, device, memidx, cacheable, pointer, cache)\u001b[0m\n\u001b[1;32m    102\u001b[0m     bo, buf, device_address \u001b[38;5;241m=\u001b[39m pointer\n\u001b[1;32m    103\u001b[0m \u001b[38;5;28;01melse\u001b[39;00m:\n\u001b[0;32m--> 104\u001b[0m     bo \u001b[38;5;241m=\u001b[39m \u001b[43mdevice\u001b[49m\u001b[38;5;241;43m.\u001b[39;49m\u001b[43mallocate_bo\u001b[49m\u001b[43m(\u001b[49m\u001b[43msize\u001b[49m\u001b[43m,\u001b[49m\u001b[43m \u001b[49m\u001b[43mmemidx\u001b[49m\u001b[43m,\u001b[49m\u001b[43m \u001b[49m\u001b[43mcacheable\u001b[49m\u001b[43m)\u001b[49m\n\u001b[1;32m    105\u001b[0m     buf \u001b[38;5;241m=\u001b[39m device\u001b[38;5;241m.\u001b[39mmap_bo(bo)\n\u001b[1;32m    106\u001b[0m     device_address \u001b[38;5;241m=\u001b[39m device\u001b[38;5;241m.\u001b[39mget_device_address(bo)\n",
      "File \u001b[0;32m~/anaconda3/envs/hls4ml-u55c/lib/python3.10/site-packages/pynq/pl_server/xrt_device.py:410\u001b[0m, in \u001b[0;36mXrtDevice.allocate_bo\u001b[0;34m(self, size, idx, cacheable)\u001b[0m\n\u001b[1;32m    408\u001b[0m bo \u001b[38;5;241m=\u001b[39m xrt\u001b[38;5;241m.\u001b[39mxclAllocBO(\u001b[38;5;28mself\u001b[39m\u001b[38;5;241m.\u001b[39mhandle, size, xrt\u001b[38;5;241m.\u001b[39mxclBOKind\u001b[38;5;241m.\u001b[39mXCL_BO_DEVICE_RAM, idx)\n\u001b[1;32m    409\u001b[0m \u001b[38;5;28;01mif\u001b[39;00m bo \u001b[38;5;241m>\u001b[39m\u001b[38;5;241m=\u001b[39m \u001b[38;5;241m0x80000000\u001b[39m:\n\u001b[0;32m--> 410\u001b[0m     \u001b[38;5;28;01mraise\u001b[39;00m \u001b[38;5;167;01mRuntimeError\u001b[39;00m(\u001b[38;5;124m\"\u001b[39m\u001b[38;5;124mAllocate failed: \u001b[39m\u001b[38;5;124m\"\u001b[39m \u001b[38;5;241m+\u001b[39m \u001b[38;5;28mstr\u001b[39m(bo))\n\u001b[1;32m    411\u001b[0m \u001b[38;5;28;01mreturn\u001b[39;00m bo\n",
      "\u001b[0;31mRuntimeError\u001b[0m: Allocate failed: 4294967277"
     ]
    }
   ],
   "source": [
    "y_pred_fpga, _, rate = ol.predict(X_test, y_test.shape, np.int16, profile=True)"
   ]
  },
  {
   "cell_type": "code",
   "execution_count": 54,
   "id": "2e437027",
   "metadata": {},
   "outputs": [
    {
     "name": "stdout",
     "output_type": "stream",
     "text": [
      "Sample 0: True label = [1], Predicted = [508]\n",
      "Sample 1: True label = [0], Predicted = [0]\n",
      "Sample 2: True label = [1], Predicted = [0]\n",
      "Sample 3: True label = [1], Predicted = [0]\n",
      "Sample 4: True label = [1], Predicted = [0]\n"
     ]
    }
   ],
   "source": [
    "for i in range(5):\n",
    "    true_label = y_test[i]\n",
    "    pred_label = y_pred_fpga[i]\n",
    "    print(f\"Sample {i}: True label = {true_label}, Predicted = {pred_label}\")"
   ]
  },
  {
   "cell_type": "code",
   "execution_count": 90,
   "id": "b6d56994",
   "metadata": {},
   "outputs": [
    {
     "name": "stdout",
     "output_type": "stream",
     "text": [
      "Accuracy (FPGA): 1.0\n"
     ]
    }
   ],
   "source": [
    "from sklearn.metrics import accuracy_score\n",
    "\n",
    "print(\"Accuracy (FPGA):\", accuracy_score(np.argmax(y_test, axis=1), np.argmax(y_pred_fpga, axis=1)))"
   ]
  },
  {
   "cell_type": "code",
   "execution_count": 91,
   "id": "756fdb93",
   "metadata": {},
   "outputs": [
    {
     "name": "stdout",
     "output_type": "stream",
     "text": [
      "0v85 None\n",
      "12v_aux Sensor {name=12v_aux_power, value=0.0W}\n",
      "12v_pex Sensor {name=12v_pex_power, value=0.0W}\n",
      "12v_sw None\n",
      "1v8 None\n",
      "3v3_aux None\n",
      "3v3_pex None\n",
      "mgt0v9avcc None\n",
      "mgtavtt None\n",
      "sys_5v5 None\n",
      "vccint Sensor {name=vccint_power, value=0.0W}\n"
     ]
    }
   ],
   "source": [
    "sensors = Device.active_device.sensors\n",
    "\n",
    "for name, sensor in sensors.items():\n",
    "    print(name, sensor.power)"
   ]
  },
  {
   "cell_type": "code",
   "execution_count": 9,
   "id": "8dd1f964",
   "metadata": {},
   "outputs": [
    {
     "name": "stdout",
     "output_type": "stream",
     "text": [
      "Classified 1000 samples in 0.0011769999999999999 seconds (849617.6720475787 inferences / s)\n",
      "Or 1.1769999999999998 us / inferences\n",
      "                            Mark  12v_aux_power  12v_pex_power  vccint_power\n",
      "2025-04-19 04:58:57.263910   0.0       5.736544       11.92244           0.0\n"
     ]
    }
   ],
   "source": [
    "# Record power consumption\n",
    "\n",
    "from pynq.pmbus import DataRecorder\n",
    "from pynq import Device\n",
    "\n",
    "# Setup\n",
    "sensors = Device.active_device.sensors\n",
    "recorder = DataRecorder(sensors[\"12v_aux\"].power,\n",
    "                        sensors[\"12v_pex\"].power,\n",
    "                        sensors[\"vccint\"].power)\n",
    "\n",
    "# Start recording just before calling ol.predict\n",
    "recorder.record(0.1)\n",
    "\n",
    "# Run your kernel (this is where power spikes will happen)\n",
    "y_pred_fpga, _, rate = ol.predict(X_test, y_test.shape, np.int16, profile=True)\n",
    "\n",
    "# Stop recording right after\n",
    "recorder.stop()\n",
    "\n",
    "# View the recorded power data\n",
    "frame = recorder.frame\n",
    "print(frame.head())"
   ]
  }
 ],
 "metadata": {
  "kernelspec": {
   "display_name": "hls4ml-u55c",
   "language": "python",
   "name": "python3"
  },
  "language_info": {
   "codemirror_mode": {
    "name": "ipython",
    "version": 3
   },
   "file_extension": ".py",
   "mimetype": "text/x-python",
   "name": "python",
   "nbconvert_exporter": "python",
   "pygments_lexer": "ipython3",
   "version": "3.10.13"
  }
 },
 "nbformat": 4,
 "nbformat_minor": 5
}
