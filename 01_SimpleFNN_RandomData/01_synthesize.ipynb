{
 "cells": [
  {
   "cell_type": "code",
   "execution_count": 11,
   "metadata": {},
   "outputs": [],
   "source": [
    "import os\n",
    "\n",
    "# Set the environment variables for XRT\n",
    "xrt_213_path = \"/home/csl/yeop/XRT/build/Debug/opt/xilinx/xrt\"\n",
    "\n",
    "os.environ[\"XILINX_XRT\"] = xrt_213_path\n",
    "os.environ[\"LD_LIBRARY_PATH\"] = f\"{xrt_213_path}/lib:\" + os.getenv(\"LD_LIBRARY_PATH\", \"\")\n",
    "os.environ[\"PATH\"] = f\"{xrt_213_path}/bin:\" + os.getenv(\"PATH\", \"\")"
   ]
  },
  {
   "cell_type": "code",
   "execution_count": 12,
   "metadata": {},
   "outputs": [
    {
     "name": "stdout",
     "output_type": "stream",
     "text": [
      "Version              : 2.13.0\n",
      "Branch               : 2022.1\n",
      "Hash                 : ca4bdf101cd1d698377f5a7113d8583f709c2143\n",
      "Hash Date            : 2025-02-27 06:03:19\n",
      "XOCL                 : 2.18.179, 3ade2e671e5ab463400813fc2846c57edf82bb10\n",
      "XCLMGMT              : 2.18.179, 3ade2e671e5ab463400813fc2846c57edf82bb10\n"
     ]
    }
   ],
   "source": [
    "!xbutil --version"
   ]
  },
  {
   "cell_type": "code",
   "execution_count": 13,
   "metadata": {},
   "outputs": [],
   "source": [
    "from tensorflow.keras.models import Sequential\n",
    "from tensorflow.keras.layers import Dense, Activation"
   ]
  },
  {
   "cell_type": "code",
   "execution_count": 14,
   "metadata": {},
   "outputs": [
    {
     "name": "stdout",
     "output_type": "stream",
     "text": [
      "Epoch 1/5\n",
      "32/32 [==============================] - 1s 7ms/step - loss: 0.6948 - accuracy: 0.5160\n",
      "Epoch 2/5\n",
      "32/32 [==============================] - 0s 6ms/step - loss: 0.6922 - accuracy: 0.5060\n",
      "Epoch 3/5\n",
      "32/32 [==============================] - 0s 5ms/step - loss: 0.6908 - accuracy: 0.5290\n",
      "Epoch 4/5\n",
      "32/32 [==============================] - 0s 6ms/step - loss: 0.6891 - accuracy: 0.5320\n",
      "Epoch 5/5\n",
      "32/32 [==============================] - 0s 7ms/step - loss: 0.6883 - accuracy: 0.5330\n"
     ]
    },
    {
     "data": {
      "text/plain": [
       "<keras.callbacks.History at 0x7f14bc7bb8e0>"
      ]
     },
     "execution_count": 14,
     "metadata": {},
     "output_type": "execute_result"
    }
   ],
   "source": [
    "from qkeras import QDense, QActivation, quantized_bits, quantized_relu\n",
    "from tensorflow.keras.models import Sequential\n",
    "import numpy as np\n",
    "\n",
    "X = np.random.rand(1000, 10)\n",
    "y = np.random.randint(2, size=(1000, 1))\n",
    "\n",
    "model = Sequential()\n",
    "model.add(\n",
    "    QDense(\n",
    "        64,\n",
    "        input_shape=(10,),\n",
    "        kernel_quantizer=quantized_bits(6, 0, alpha=1),\n",
    "        bias_quantizer=quantized_bits(6, 0, alpha=1),\n",
    "        kernel_initializer='lecun_uniform'\n",
    "    )\n",
    ")\n",
    "model.add(QActivation(activation=quantized_relu(6)))\n",
    "model.add(\n",
    "    QDense(\n",
    "        32,\n",
    "        kernel_quantizer=quantized_bits(6, 0, alpha=1),\n",
    "        bias_quantizer=quantized_bits(6, 0, alpha=1),\n",
    "        kernel_initializer='lecun_uniform'\n",
    "    )\n",
    ")\n",
    "model.add(QActivation(activation=quantized_relu(6)))\n",
    "model.add(\n",
    "    QDense(\n",
    "        1,\n",
    "        kernel_quantizer=quantized_bits(6, 0, alpha=1),\n",
    "        bias_quantizer=quantized_bits(6, 0, alpha=1),\n",
    "        kernel_initializer='lecun_uniform'\n",
    "    )\n",
    ")\n",
    "model.add(Activation('sigmoid'))  # Sigmoid can't be quantized directly (but hls4ml handles it fine)\n",
    "\n",
    "model.compile(optimizer='adam', loss='binary_crossentropy', metrics=['accuracy'])\n",
    "model.fit(X, y, epochs=5, batch_size=32, verbose=1)"
   ]
  },
  {
   "cell_type": "code",
   "execution_count": 15,
   "id": "09cbb427",
   "metadata": {},
   "outputs": [
    {
     "name": "stdout",
     "output_type": "stream",
     "text": [
      "Interpreting Sequential\n",
      "Topology:\n",
      "Layer name: q_dense_3_input, layer type: InputLayer, input shapes: [[None, 10]], output shape: [None, 10]\n",
      "Layer name: q_dense_3, layer type: QDense, input shapes: [[None, 10]], output shape: [None, 64]\n",
      "Layer name: q_activation_2, layer type: Activation, input shapes: [[None, 64]], output shape: [None, 64]\n",
      "Layer name: q_dense_4, layer type: QDense, input shapes: [[None, 64]], output shape: [None, 32]\n",
      "Layer name: q_activation_3, layer type: Activation, input shapes: [[None, 32]], output shape: [None, 32]\n",
      "Layer name: q_dense_5, layer type: QDense, input shapes: [[None, 32]], output shape: [None, 1]\n",
      "Layer name: activation_1, layer type: Activation, input shapes: [[None, 1]], output shape: [None, 1]\n",
      "{'Backend': 'Vitis',\n",
      " 'ClockPeriod': 5,\n",
      " 'IOType': 'io_parallel',\n",
      " 'Model': {'BramFactor': 1000000000,\n",
      "           'Precision': {'default': 'ap_fixed<16,6>'},\n",
      "           'ReuseFactor': 1,\n",
      "           'Strategy': 'Latency',\n",
      "           'TraceOutput': False},\n",
      " 'Part': 'xcu55c-fsvh2892-2L-e',\n",
      " 'ProjectName': 'hls4ml_prj_u55c_new'}\n"
     ]
    }
   ],
   "source": [
    "import hls4ml\n",
    "import pprint\n",
    "\n",
    "# Generate config\n",
    "config = hls4ml.utils.config_from_keras_model(model, default_precision='ap_fixed<16,6>')\n",
    "\n",
    "# Add U55C-specific settings\n",
    "config['Backend'] = 'Vitis'\n",
    "config['Part'] = 'xcu55c-fsvh2892-2L-e'\n",
    "config['ProjectName'] = 'hls4ml_prj_u55c_new'\n",
    "config['ClockPeriod'] = 5  # You can adjust this if needed\n",
    "config['IOType'] = 'io_parallel'\n",
    "\n",
    "pprint.pprint(config)"
   ]
  },
  {
   "cell_type": "code",
   "execution_count": 16,
   "metadata": {},
   "outputs": [
    {
     "name": "stdout",
     "output_type": "stream",
     "text": [
      "Interpreting Sequential\n",
      "Topology:\n",
      "Layer name: q_dense_3_input, layer type: InputLayer, input shapes: [[None, 10]], output shape: [None, 10]\n",
      "Layer name: q_dense_3, layer type: QDense, input shapes: [[None, 10]], output shape: [None, 64]\n",
      "Layer name: q_activation_2, layer type: Activation, input shapes: [[None, 64]], output shape: [None, 64]\n",
      "Layer name: q_dense_4, layer type: QDense, input shapes: [[None, 64]], output shape: [None, 32]\n",
      "Layer name: q_activation_3, layer type: Activation, input shapes: [[None, 32]], output shape: [None, 32]\n",
      "Layer name: q_dense_5, layer type: QDense, input shapes: [[None, 32]], output shape: [None, 1]\n",
      "Layer name: activation_1, layer type: Activation, input shapes: [[None, 1]], output shape: [None, 1]\n",
      "Creating HLS model\n"
     ]
    }
   ],
   "source": [
    "# Convert the model\n",
    "hls_model = hls4ml.converters.convert_from_keras_model(model,\n",
    "                                                       hls_config=config,\n",
    "                                                       io_type='io_parallel',\n",
    "                                                       output_dir='hls4ml_prj_u55c_new',\n",
    "                                                       part='xcu55c-fsvh2892-2L-e',\n",
    "                                                       backend='Vitis',)\n"
   ]
  },
  {
   "cell_type": "code",
   "execution_count": null,
   "metadata": {},
   "outputs": [],
   "source": [
    "hls_model.build(csim=False,synth=True,export=True)"
   ]
  },
  {
   "cell_type": "code",
   "execution_count": null,
   "metadata": {},
   "outputs": [],
   "source": [
    "#after generating .xo file, move it inside hls4ml_prj_u55c_new/xo_files\n",
    "\n",
    "!v++ -c -t hw --platform xilinx_u55c_gen3x16_xdma_3_202210_1 -k myproject -o myproject.xo ./hls4ml_prj_u55c_new/firmware/myproject.cpp"
   ]
  },
  {
   "cell_type": "code",
   "execution_count": null,
   "metadata": {},
   "outputs": [],
   "source": [
    "# modify hls4ml/backends/vitis/vitis_backend.py\n",
    "# copy 'def make_xclbin()' from hls4ml/backends/vivado_accelerator/vivado_accelerator_backend.py\n",
    "# or manually link the xclbin file by 'v++ -t -l' command\n",
    "\n",
    "hls4ml.backends.VitisBackend.make_xclbin(hls_model, hls_model, 'xilinx_u55c_gen3x16_xdma_3_202210_1')"
   ]
  }
 ],
 "metadata": {
  "kernelspec": {
   "display_name": "hls4ml-u55c",
   "language": "python",
   "name": "python3"
  },
  "language_info": {
   "codemirror_mode": {
    "name": "ipython",
    "version": 3
   },
   "file_extension": ".py",
   "mimetype": "text/x-python",
   "name": "python",
   "nbconvert_exporter": "python",
   "pygments_lexer": "ipython3",
   "version": "3.10.13"
  }
 },
 "nbformat": 4,
 "nbformat_minor": 2
}
